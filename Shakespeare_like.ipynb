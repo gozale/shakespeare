{
  "nbformat": 4,
  "nbformat_minor": 0,
  "metadata": {
    "colab": {
      "provenance": [],
      "gpuType": "T4"
    },
    "kernelspec": {
      "name": "python3",
      "display_name": "Python 3"
    },
    "language_info": {
      "name": "python"
    },
    "accelerator": "GPU"
  },
  "cells": [
    {
      "cell_type": "markdown",
      "source": [
        "UNIVERSIDAD AUTONOMA DE CHIHUAHUA\n",
        "Facultad de Ingeniería\n",
        "Shakespeare\n",
        "Alejandro Arturo González Flores\n",
        "8CC2\n",
        "Matricula: 348552\n",
        "Docente: Jesus Roberto López Santillán\n",
        "Data Science\n",
        "Chihuahua, Chih. 28 de Noviembre del 2023\n"
      ],
      "metadata": {
        "id": "EfpMnJFSizGM"
      }
    },
    {
      "cell_type": "code",
      "execution_count": 1,
      "metadata": {
        "id": "bzRFu5oGprcM"
      },
      "outputs": [],
      "source": [
        "import tensorflow as tf\n",
        "from tensorflow import keras"
      ]
    },
    {
      "cell_type": "code",
      "source": [
        "shakespeare_url = \"https://homl.info/shakespeare\"\n",
        "filepath = keras.utils.get_file(\"shakespeare.txt\", shakespeare_url)\n",
        "with open(filepath) as f:\n",
        "  shakespeare_text = f.read()"
      ],
      "metadata": {
        "id": "FQJS4iFtp2Js"
      },
      "execution_count": 2,
      "outputs": []
    },
    {
      "cell_type": "code",
      "source": [
        "tokenizer = keras.preprocessing.text.Tokenizer(char_level=True)\n",
        "tokenizer.fit_on_texts([shakespeare_text])"
      ],
      "metadata": {
        "id": "UnsG7Qcmp4_P"
      },
      "execution_count": 3,
      "outputs": []
    },
    {
      "cell_type": "code",
      "source": [
        "print(tokenizer.texts_to_sequences([\"First\"]))\n",
        "print(tokenizer.sequences_to_texts([[20,6,9,8,3]]))\n",
        "max_id = len(tokenizer.word_index)\n",
        "print(max_id)\n",
        "dataset_size=sum(x for x in tokenizer.word_counts.values())\n",
        "print(type(dataset_size))\n",
        "print(dataset_size)"
      ],
      "metadata": {
        "colab": {
          "base_uri": "https://localhost:8080/"
        },
        "id": "1bwRhZYEp64P",
        "outputId": "56b84c2d-ee86-48f7-d080-06e722c68b8c"
      },
      "execution_count": 4,
      "outputs": [
        {
          "output_type": "stream",
          "name": "stdout",
          "text": [
            "[[20, 6, 9, 8, 3]]\n",
            "['f i r s t']\n",
            "39\n",
            "<class 'int'>\n",
            "1115394\n"
          ]
        }
      ]
    },
    {
      "cell_type": "code",
      "source": [
        "import numpy as np"
      ],
      "metadata": {
        "id": "id264xPWp9QC"
      },
      "execution_count": 5,
      "outputs": []
    },
    {
      "cell_type": "code",
      "source": [
        "[encoded] = np.array(tokenizer.texts_to_sequences([shakespeare_text]))-1\n",
        "print(encoded)"
      ],
      "metadata": {
        "colab": {
          "base_uri": "https://localhost:8080/"
        },
        "id": "mKBKhC2Kp_7k",
        "outputId": "0f46abb5-3329-4a5e-d454-e6fcd0f60b3d"
      },
      "execution_count": 6,
      "outputs": [
        {
          "output_type": "stream",
          "name": "stdout",
          "text": [
            "[19  5  8 ... 20 26 10]\n"
          ]
        }
      ]
    },
    {
      "cell_type": "code",
      "source": [
        "train_size=dataset_size * 90 //100\n",
        "dataset=tf.data.Dataset.from_tensor_slices(encoded[:train_size])"
      ],
      "metadata": {
        "id": "RBquEIz-qBvv"
      },
      "execution_count": 7,
      "outputs": []
    },
    {
      "cell_type": "code",
      "source": [
        "n_steps = 100\n",
        "window_length = n_steps + 1\n",
        "dataset = dataset.window(window_length, shift=1, drop_remainder=True)"
      ],
      "metadata": {
        "id": "AOH9RRNpqEyt"
      },
      "execution_count": 8,
      "outputs": []
    },
    {
      "cell_type": "code",
      "source": [
        "dataset = dataset.flat_map(lambda window: window.batch(window_length))"
      ],
      "metadata": {
        "id": "7lt3Azh6qHnp"
      },
      "execution_count": 9,
      "outputs": []
    },
    {
      "cell_type": "code",
      "source": [
        "batch_size = 32\n",
        "dataset = dataset.shuffle(10000).batch(batch_size)\n",
        "dataset = dataset.map(lambda windows: (windows[: ,:-1], windows[:, 1:]))"
      ],
      "metadata": {
        "id": "QOMp5MxrqIb8"
      },
      "execution_count": 10,
      "outputs": []
    },
    {
      "cell_type": "code",
      "source": [
        "dataset = dataset.map(\n",
        "    lambda X_batch, Y_batch: (tf.one_hot(X_batch, depth = max_id), Y_batch)\n",
        ")\n",
        "dataset = dataset.prefetch(1)"
      ],
      "metadata": {
        "id": "fQBQU1WwqNOI"
      },
      "execution_count": 11,
      "outputs": []
    },
    {
      "cell_type": "code",
      "source": [
        "'''\n",
        "model = keras.models.Sequential([\n",
        "    keras.layers.GRU(128, return_sequences=True, input_shape=[None,max_id],dropout=0.2),\n",
        "    keras.layers.GRU(128, return_sequences=True,\n",
        "                     #dropout=0.2, recurrent_dropout=0.2),\n",
        "                     dropout=0.2),\n",
        "    keras.layers.TimeDistributed(keras.layers.Dense(max_id, activation=\"softmax\"))\n",
        "])\n",
        "model.compile(loss=\"sparse_categorical_crossentropy\", optimizer=\"adam\")\n",
        "history=model.fit(dataset, epochs=20)\n",
        "model.save('my_model.h5')\n",
        "'''"
      ],
      "metadata": {
        "colab": {
          "base_uri": "https://localhost:8080/",
          "height": 125
        },
        "id": "vj-mxmIvqOGG",
        "outputId": "dafcbc42-f1de-4104-8b8f-7a28a39217ab"
      },
      "execution_count": 12,
      "outputs": [
        {
          "output_type": "execute_result",
          "data": {
            "text/plain": [
              "'\\nmodel = keras.models.Sequential([\\n    keras.layers.GRU(128, return_sequences=True, input_shape=[None,max_id],dropout=0.2),\\n    keras.layers.GRU(128, return_sequences=True,\\n                     #dropout=0.2, recurrent_dropout=0.2),\\n                     dropout=0.2),\\n    keras.layers.TimeDistributed(keras.layers.Dense(max_id, activation=\"softmax\"))\\n])\\nmodel.compile(loss=\"sparse_categorical_crossentropy\", optimizer=\"adam\")\\nhistory=model.fit(dataset, epochs=20)\\nmodel.save(\\'my_model.h5\\')\\n'"
            ],
            "application/vnd.google.colaboratory.intrinsic+json": {
              "type": "string"
            }
          },
          "metadata": {},
          "execution_count": 12
        }
      ]
    },
    {
      "cell_type": "code",
      "source": [
        "model = tf.keras.models.load_model('my_model.h5')\n",
        "model.summary()"
      ],
      "metadata": {
        "colab": {
          "base_uri": "https://localhost:8080/"
        },
        "id": "LiySo2vPj2JQ",
        "outputId": "cfd8b7b1-af0e-46a5-d1f0-5255b836c466"
      },
      "execution_count": 13,
      "outputs": [
        {
          "output_type": "stream",
          "name": "stdout",
          "text": [
            "Model: \"sequential\"\n",
            "_________________________________________________________________\n",
            " Layer (type)                Output Shape              Param #   \n",
            "=================================================================\n",
            " gru (GRU)                   (None, None, 128)         64896     \n",
            "                                                                 \n",
            " gru_1 (GRU)                 (None, None, 128)         99072     \n",
            "                                                                 \n",
            " time_distributed (TimeDist  (None, None, 39)          5031      \n",
            " ributed)                                                        \n",
            "                                                                 \n",
            "=================================================================\n",
            "Total params: 168999 (660.15 KB)\n",
            "Trainable params: 168999 (660.15 KB)\n",
            "Non-trainable params: 0 (0.00 Byte)\n",
            "_________________________________________________________________\n"
          ]
        }
      ]
    },
    {
      "cell_type": "code",
      "source": [
        "def preprocess(texts):\n",
        "  X = np.array(tokenizer.texts_to_sequences(texts))-1\n",
        "  return tf.one_hot(X, max_id)"
      ],
      "metadata": {
        "id": "r6fL5Ab-qTTf"
      },
      "execution_count": 14,
      "outputs": []
    },
    {
      "cell_type": "code",
      "source": [
        "X_new = preprocess([\"How are yo\"])\n",
        "Y_pred_prob = model.predict(X_new)\n",
        "Y_pred_classes = np.argmax(Y_pred_prob, axis=-1)\n",
        "\n",
        "predicted_text = tokenizer.sequences_to_texts(Y_pred_classes + 1)[0][-1]"
      ],
      "metadata": {
        "colab": {
          "base_uri": "https://localhost:8080/"
        },
        "id": "cmZTcM5HqX9r",
        "outputId": "4b2896b0-8682-4346-bba3-9669342b8494"
      },
      "execution_count": 15,
      "outputs": [
        {
          "output_type": "stream",
          "name": "stdout",
          "text": [
            "1/1 [==============================] - 3s 3s/step\n"
          ]
        }
      ]
    },
    {
      "cell_type": "code",
      "source": [
        "def next_char(text, temperature=1):\n",
        "  X_new = preprocess([text])\n",
        "  y_proba = model.predict(X_new)[0, -1:, :]\n",
        "  rescaled_logits = tf.math.log(y_proba)/temperature\n",
        "  char_id = tf.random.categorical(rescaled_logits, num_samples=1) +1\n",
        "  return tokenizer.sequences_to_texts(char_id.numpy())[0]"
      ],
      "metadata": {
        "id": "_b90gDvNqZzx"
      },
      "execution_count": 16,
      "outputs": []
    },
    {
      "cell_type": "code",
      "source": [
        "def complete_text(text, n_chars=50, temperature=1):\n",
        "  for _ in range(n_chars):\n",
        "    text += next_char(text,temperature)\n",
        "  return text"
      ],
      "metadata": {
        "id": "CUIrZkXyqcKO"
      },
      "execution_count": 17,
      "outputs": []
    },
    {
      "cell_type": "code",
      "source": [
        "print(complete_text(\"t\", temperature=0.2))\n",
        "print(complete_text(\"w\", temperature=1))\n",
        "print(complete_text(\"w\", temperature=2))"
      ],
      "metadata": {
        "colab": {
          "base_uri": "https://localhost:8080/"
        },
        "id": "pwO-NS7Aqed_",
        "outputId": "37023a88-5b76-4179-88b3-3d914b04eb3a"
      },
      "execution_count": 18,
      "outputs": [
        {
          "output_type": "stream",
          "name": "stdout",
          "text": [
            "1/1 [==============================] - 1s 1s/step\n",
            "1/1 [==============================] - 0s 143ms/step\n",
            "1/1 [==============================] - 0s 72ms/step\n",
            "1/1 [==============================] - 0s 63ms/step\n",
            "1/1 [==============================] - 0s 111ms/step\n",
            "1/1 [==============================] - 0s 124ms/step\n",
            "1/1 [==============================] - 0s 72ms/step\n",
            "1/1 [==============================] - 0s 118ms/step\n",
            "1/1 [==============================] - 0s 118ms/step\n",
            "1/1 [==============================] - 0s 133ms/step\n",
            "1/1 [==============================] - 0s 38ms/step\n",
            "1/1 [==============================] - 0s 85ms/step\n",
            "1/1 [==============================] - 0s 113ms/step\n",
            "1/1 [==============================] - 0s 65ms/step\n",
            "1/1 [==============================] - 0s 78ms/step\n",
            "1/1 [==============================] - 0s 42ms/step\n",
            "1/1 [==============================] - 0s 45ms/step\n",
            "1/1 [==============================] - 0s 107ms/step\n",
            "1/1 [==============================] - 0s 76ms/step\n",
            "1/1 [==============================] - 0s 41ms/step\n",
            "1/1 [==============================] - 0s 34ms/step\n",
            "1/1 [==============================] - 0s 49ms/step\n",
            "1/1 [==============================] - 0s 29ms/step\n",
            "1/1 [==============================] - 0s 63ms/step\n",
            "1/1 [==============================] - 0s 32ms/step\n",
            "1/1 [==============================] - 0s 41ms/step\n",
            "1/1 [==============================] - 0s 101ms/step\n",
            "1/1 [==============================] - 0s 53ms/step\n",
            "1/1 [==============================] - 0s 42ms/step\n",
            "1/1 [==============================] - 0s 59ms/step\n",
            "1/1 [==============================] - 0s 79ms/step\n",
            "1/1 [==============================] - 0s 30ms/step\n",
            "1/1 [==============================] - 0s 100ms/step\n",
            "1/1 [==============================] - 0s 41ms/step\n",
            "1/1 [==============================] - 0s 36ms/step\n",
            "1/1 [==============================] - 0s 75ms/step\n",
            "1/1 [==============================] - 0s 34ms/step\n",
            "1/1 [==============================] - 0s 75ms/step\n",
            "1/1 [==============================] - 0s 20ms/step\n",
            "1/1 [==============================] - 0s 20ms/step\n",
            "1/1 [==============================] - 0s 20ms/step\n",
            "1/1 [==============================] - 0s 21ms/step\n",
            "1/1 [==============================] - 0s 21ms/step\n",
            "1/1 [==============================] - 0s 21ms/step\n",
            "1/1 [==============================] - 0s 22ms/step\n",
            "1/1 [==============================] - 0s 19ms/step\n",
            "1/1 [==============================] - 0s 21ms/step\n",
            "1/1 [==============================] - 0s 21ms/step\n",
            "1/1 [==============================] - 0s 19ms/step\n",
            "1/1 [==============================] - 0s 19ms/step\n",
            "the men and will i see\n",
            "the more than she is an any \n",
            "1/1 [==============================] - 0s 18ms/step\n",
            "1/1 [==============================] - 0s 19ms/step\n",
            "1/1 [==============================] - 0s 18ms/step\n",
            "1/1 [==============================] - 0s 19ms/step\n",
            "1/1 [==============================] - 0s 18ms/step\n",
            "1/1 [==============================] - 0s 18ms/step\n",
            "1/1 [==============================] - 0s 20ms/step\n",
            "1/1 [==============================] - 0s 20ms/step\n",
            "1/1 [==============================] - 0s 19ms/step\n",
            "1/1 [==============================] - 0s 19ms/step\n",
            "1/1 [==============================] - 0s 18ms/step\n",
            "1/1 [==============================] - 0s 20ms/step\n",
            "1/1 [==============================] - 0s 23ms/step\n",
            "1/1 [==============================] - 0s 21ms/step\n",
            "1/1 [==============================] - 0s 18ms/step\n",
            "1/1 [==============================] - 0s 19ms/step\n",
            "1/1 [==============================] - 0s 19ms/step\n",
            "1/1 [==============================] - 0s 20ms/step\n",
            "1/1 [==============================] - 0s 21ms/step\n",
            "1/1 [==============================] - 0s 21ms/step\n",
            "1/1 [==============================] - 0s 21ms/step\n",
            "1/1 [==============================] - 0s 20ms/step\n",
            "1/1 [==============================] - 0s 21ms/step\n",
            "1/1 [==============================] - 0s 22ms/step\n",
            "1/1 [==============================] - 0s 19ms/step\n",
            "1/1 [==============================] - 0s 20ms/step\n",
            "1/1 [==============================] - 0s 18ms/step\n",
            "1/1 [==============================] - 0s 19ms/step\n",
            "1/1 [==============================] - 0s 18ms/step\n",
            "1/1 [==============================] - 0s 20ms/step\n",
            "1/1 [==============================] - 0s 21ms/step\n",
            "1/1 [==============================] - 0s 18ms/step\n",
            "1/1 [==============================] - 0s 18ms/step\n",
            "1/1 [==============================] - 0s 18ms/step\n",
            "1/1 [==============================] - 0s 17ms/step\n",
            "1/1 [==============================] - 0s 18ms/step\n",
            "1/1 [==============================] - 0s 18ms/step\n",
            "1/1 [==============================] - 0s 18ms/step\n",
            "1/1 [==============================] - 0s 21ms/step\n",
            "1/1 [==============================] - 0s 21ms/step\n",
            "1/1 [==============================] - 0s 20ms/step\n",
            "1/1 [==============================] - 0s 18ms/step\n",
            "1/1 [==============================] - 0s 18ms/step\n",
            "1/1 [==============================] - 0s 21ms/step\n",
            "1/1 [==============================] - 0s 19ms/step\n",
            "1/1 [==============================] - 0s 19ms/step\n",
            "1/1 [==============================] - 0s 24ms/step\n",
            "1/1 [==============================] - 0s 17ms/step\n",
            "1/1 [==============================] - 0s 19ms/step\n",
            "1/1 [==============================] - 0s 18ms/step\n",
            "why,\n",
            "that's the men or knaves when he lives to you;\n",
            "1/1 [==============================] - 0s 17ms/step\n",
            "1/1 [==============================] - 0s 20ms/step\n",
            "1/1 [==============================] - 0s 18ms/step\n",
            "1/1 [==============================] - 0s 18ms/step\n",
            "1/1 [==============================] - 0s 18ms/step\n",
            "1/1 [==============================] - 0s 20ms/step\n",
            "1/1 [==============================] - 0s 18ms/step\n",
            "1/1 [==============================] - 0s 20ms/step\n",
            "1/1 [==============================] - 0s 20ms/step\n",
            "1/1 [==============================] - 0s 19ms/step\n",
            "1/1 [==============================] - 0s 19ms/step\n",
            "1/1 [==============================] - 0s 20ms/step\n",
            "1/1 [==============================] - 0s 21ms/step\n",
            "1/1 [==============================] - 0s 18ms/step\n",
            "1/1 [==============================] - 0s 23ms/step\n",
            "1/1 [==============================] - 0s 17ms/step\n",
            "1/1 [==============================] - 0s 17ms/step\n",
            "1/1 [==============================] - 0s 17ms/step\n",
            "1/1 [==============================] - 0s 19ms/step\n",
            "1/1 [==============================] - 0s 18ms/step\n",
            "1/1 [==============================] - 0s 17ms/step\n",
            "1/1 [==============================] - 0s 19ms/step\n",
            "1/1 [==============================] - 0s 20ms/step\n",
            "1/1 [==============================] - 0s 20ms/step\n",
            "1/1 [==============================] - 0s 17ms/step\n",
            "1/1 [==============================] - 0s 19ms/step\n",
            "1/1 [==============================] - 0s 20ms/step\n",
            "1/1 [==============================] - 0s 18ms/step\n",
            "1/1 [==============================] - 0s 19ms/step\n",
            "1/1 [==============================] - 0s 23ms/step\n",
            "1/1 [==============================] - 0s 21ms/step\n",
            "1/1 [==============================] - 0s 21ms/step\n",
            "1/1 [==============================] - 0s 20ms/step\n",
            "1/1 [==============================] - 0s 24ms/step\n",
            "1/1 [==============================] - 0s 18ms/step\n",
            "1/1 [==============================] - 0s 18ms/step\n",
            "1/1 [==============================] - 0s 18ms/step\n",
            "1/1 [==============================] - 0s 21ms/step\n",
            "1/1 [==============================] - 0s 20ms/step\n",
            "1/1 [==============================] - 0s 22ms/step\n",
            "1/1 [==============================] - 0s 19ms/step\n",
            "1/1 [==============================] - 0s 20ms/step\n",
            "1/1 [==============================] - 0s 24ms/step\n",
            "1/1 [==============================] - 0s 19ms/step\n",
            "1/1 [==============================] - 0s 19ms/step\n",
            "1/1 [==============================] - 0s 18ms/step\n",
            "1/1 [==============================] - 0s 18ms/step\n",
            "1/1 [==============================] - 0s 18ms/step\n",
            "1/1 [==============================] - 0s 18ms/step\n",
            "1/1 [==============================] - 0s 21ms/step\n",
            "whise vyrota! ond\n",
            "bolk, ser?,\n",
            "at if your.\n",
            "geccala f\n"
          ]
        }
      ]
    },
    {
      "cell_type": "code",
      "source": [
        "tf.random.set_seed(42)\n",
        "batch_size = 32\n",
        "encoded_parts = np.array_split(encoded[:train_size], batch_size)\n",
        "datasets = []\n",
        "for encoded_part in encoded_parts:\n",
        "  dataset= tf.data.Dataset.from_tensor_slices(encoded_part)\n",
        "  dataset= dataset.window(window_length, shift=n_steps, drop_remainder=True)\n",
        "  dataset= dataset.flat_map(lambda window: window.batch(window_length))\n",
        "  datasets.append(dataset)\n",
        "dataset = tf.data.Dataset.zip(tuple(datasets)).map(lambda *windows: tf.stack(windows))\n",
        "dataset = dataset.map(lambda windows: (windows[:, :-1], windows[:, 1:]))\n",
        "dataset = dataset.map(\n",
        "    lambda X_batch, Y_batch: (tf.one_hot(X_batch, depth=max_id), Y_batch)\n",
        ")\n",
        "dataset= dataset.prefetch(1)"
      ],
      "metadata": {
        "id": "VM3hmshyqg41"
      },
      "execution_count": 19,
      "outputs": []
    },
    {
      "cell_type": "code",
      "source": [
        "stateful_model = keras.models.Sequential([\n",
        "    keras.layers.GRU(128, return_sequences=True, stateful=True, dropout=0.2, batch_input_shape=[batch_size, None, max_id]),\n",
        "    keras.layers.GRU(128, return_sequences=True, stateful=True, dropout=0.2),\n",
        "    keras.layers.TimeDistributed(keras.layers.Dense(max_id, activation=\"softmax\"))\n",
        "])"
      ],
      "metadata": {
        "id": "rfkhZQsqqiY0"
      },
      "execution_count": 20,
      "outputs": []
    },
    {
      "cell_type": "code",
      "source": [
        "class ResetStatesCallback(keras.callbacks.Callback):\n",
        "  def on_epoch_begin(self, epoch, logs):\n",
        "    self.model.reset_states()"
      ],
      "metadata": {
        "id": "UGbxaBTCql2y"
      },
      "execution_count": 21,
      "outputs": []
    },
    {
      "cell_type": "code",
      "source": [
        "stateful_model.compile(loss=\"sparse_categorical_crossentropy\", optimizer=\"adam\")\n",
        "stateful_model.fit(dataset,epochs=50, callbacks=[ResetStatesCallback()])\n",
        "stateful_model.save('my_stateful_model.h5')"
      ],
      "metadata": {
        "colab": {
          "base_uri": "https://localhost:8080/"
        },
        "id": "1nwm82ADqmwX",
        "outputId": "b1163f02-f59d-49a1-885c-81ed36bd9441"
      },
      "execution_count": 22,
      "outputs": [
        {
          "output_type": "stream",
          "name": "stdout",
          "text": [
            "Epoch 1/50\n",
            "313/313 [==============================] - 12s 15ms/step - loss: 2.6194\n",
            "Epoch 2/50\n",
            "313/313 [==============================] - 6s 20ms/step - loss: 2.2422\n",
            "Epoch 3/50\n",
            "313/313 [==============================] - 7s 21ms/step - loss: 2.1111\n",
            "Epoch 4/50\n",
            "313/313 [==============================] - 5s 15ms/step - loss: 2.0350\n",
            "Epoch 5/50\n",
            "313/313 [==============================] - 5s 15ms/step - loss: 1.9853\n",
            "Epoch 6/50\n",
            "313/313 [==============================] - 7s 21ms/step - loss: 1.9480\n",
            "Epoch 7/50\n",
            "313/313 [==============================] - 6s 18ms/step - loss: 1.9214\n",
            "Epoch 8/50\n",
            "313/313 [==============================] - 5s 15ms/step - loss: 1.8998\n",
            "Epoch 9/50\n",
            "313/313 [==============================] - 7s 21ms/step - loss: 1.8828\n",
            "Epoch 10/50\n",
            "313/313 [==============================] - 5s 15ms/step - loss: 1.8669\n",
            "Epoch 11/50\n",
            "313/313 [==============================] - 7s 21ms/step - loss: 1.8547\n",
            "Epoch 12/50\n",
            "313/313 [==============================] - 6s 18ms/step - loss: 1.8428\n",
            "Epoch 13/50\n",
            "313/313 [==============================] - 6s 18ms/step - loss: 1.8345\n",
            "Epoch 14/50\n",
            "313/313 [==============================] - 5s 15ms/step - loss: 1.8251\n",
            "Epoch 15/50\n",
            "313/313 [==============================] - 7s 21ms/step - loss: 1.8174\n",
            "Epoch 16/50\n",
            "313/313 [==============================] - 5s 15ms/step - loss: 1.8098\n",
            "Epoch 17/50\n",
            "313/313 [==============================] - 7s 22ms/step - loss: 1.8023\n",
            "Epoch 18/50\n",
            "313/313 [==============================] - 5s 17ms/step - loss: 1.7978\n",
            "Epoch 19/50\n",
            "313/313 [==============================] - 5s 15ms/step - loss: 1.7929\n",
            "Epoch 20/50\n",
            "313/313 [==============================] - 7s 21ms/step - loss: 1.7895\n",
            "Epoch 21/50\n",
            "313/313 [==============================] - 5s 16ms/step - loss: 1.7844\n",
            "Epoch 22/50\n",
            "313/313 [==============================] - 7s 22ms/step - loss: 1.7791\n",
            "Epoch 23/50\n",
            "313/313 [==============================] - 5s 15ms/step - loss: 1.7741\n",
            "Epoch 24/50\n",
            "313/313 [==============================] - 6s 20ms/step - loss: 1.7716\n",
            "Epoch 25/50\n",
            "313/313 [==============================] - 6s 18ms/step - loss: 1.7687\n",
            "Epoch 26/50\n",
            "313/313 [==============================] - 5s 15ms/step - loss: 1.7644\n",
            "Epoch 27/50\n",
            "313/313 [==============================] - 7s 21ms/step - loss: 1.7632\n",
            "Epoch 28/50\n",
            "313/313 [==============================] - 5s 15ms/step - loss: 1.7582\n",
            "Epoch 29/50\n",
            "313/313 [==============================] - 5s 17ms/step - loss: 1.7571\n",
            "Epoch 30/50\n",
            "313/313 [==============================] - 5s 15ms/step - loss: 1.7533\n",
            "Epoch 31/50\n",
            "313/313 [==============================] - 7s 21ms/step - loss: 1.7489\n",
            "Epoch 32/50\n",
            "313/313 [==============================] - 5s 15ms/step - loss: 1.7488\n",
            "Epoch 33/50\n",
            "313/313 [==============================] - 6s 18ms/step - loss: 1.7457\n",
            "Epoch 34/50\n",
            "313/313 [==============================] - 6s 18ms/step - loss: 1.7453\n",
            "Epoch 35/50\n",
            "313/313 [==============================] - 7s 21ms/step - loss: 1.7411\n",
            "Epoch 36/50\n",
            "313/313 [==============================] - 5s 16ms/step - loss: 1.7405\n",
            "Epoch 37/50\n",
            "313/313 [==============================] - 5s 17ms/step - loss: 1.7361\n",
            "Epoch 38/50\n",
            "313/313 [==============================] - 5s 15ms/step - loss: 1.7374\n",
            "Epoch 39/50\n",
            "313/313 [==============================] - 6s 21ms/step - loss: 1.7335\n",
            "Epoch 40/50\n",
            "313/313 [==============================] - 5s 15ms/step - loss: 1.7318\n",
            "Epoch 41/50\n",
            "313/313 [==============================] - 5s 17ms/step - loss: 1.7314\n",
            "Epoch 42/50\n",
            "313/313 [==============================] - 6s 18ms/step - loss: 1.7302\n",
            "Epoch 43/50\n",
            "313/313 [==============================] - 5s 15ms/step - loss: 1.7279\n",
            "Epoch 44/50\n",
            "313/313 [==============================] - 7s 21ms/step - loss: 1.7265\n",
            "Epoch 45/50\n",
            "313/313 [==============================] - 5s 16ms/step - loss: 1.7251\n",
            "Epoch 46/50\n",
            "313/313 [==============================] - 7s 21ms/step - loss: 1.7212\n",
            "Epoch 47/50\n",
            "313/313 [==============================] - 5s 15ms/step - loss: 1.7229\n",
            "Epoch 48/50\n",
            "313/313 [==============================] - 6s 20ms/step - loss: 1.7189\n",
            "Epoch 49/50\n",
            "313/313 [==============================] - 5s 16ms/step - loss: 1.7201\n",
            "Epoch 50/50\n",
            "313/313 [==============================] - 7s 21ms/step - loss: 1.7181\n"
          ]
        },
        {
          "output_type": "stream",
          "name": "stderr",
          "text": [
            "/usr/local/lib/python3.10/dist-packages/keras/src/engine/training.py:3079: UserWarning: You are saving your model as an HDF5 file via `model.save()`. This file format is considered legacy. We recommend using instead the native Keras format, e.g. `model.save('my_model.keras')`.\n",
            "  saving_api.save_model(\n"
          ]
        }
      ]
    },
    {
      "cell_type": "code",
      "source": [
        "stateless_model = keras.models.Sequential([\n",
        "    keras.layers.GRU(128, return_sequences=True, input_shape=[None, max_id]),\n",
        "    keras.layers.GRU(128, return_sequences=True),\n",
        "    keras.layers.TimeDistributed(keras.layers.Dense(max_id, activation=\"softmax\"))\n",
        "])"
      ],
      "metadata": {
        "id": "yS4QUDXgQVRM"
      },
      "execution_count": 23,
      "outputs": []
    },
    {
      "cell_type": "code",
      "source": [
        "stateless_model.build(tf.TensorShape([None,None,max_id]))\n",
        "stateless_model.set_weights(model.get_weights())\n",
        "stateless_model.save('my_stateless_model.h5')"
      ],
      "metadata": {
        "colab": {
          "base_uri": "https://localhost:8080/"
        },
        "id": "sYLc7nnbQdI7",
        "outputId": "18d715a3-f3f7-4d08-aed1-b8024fc03fb2"
      },
      "execution_count": 24,
      "outputs": [
        {
          "output_type": "stream",
          "name": "stderr",
          "text": [
            "WARNING:tensorflow:Compiled the loaded model, but the compiled metrics have yet to be built. `model.compile_metrics` will be empty until you train or evaluate the model.\n"
          ]
        }
      ]
    },
    {
      "cell_type": "code",
      "source": [
        "tf.random.set_seed(42)\n",
        "print(complete_text(\"t\"))"
      ],
      "metadata": {
        "colab": {
          "base_uri": "https://localhost:8080/"
        },
        "id": "rUiYuOrNQftC",
        "outputId": "f0d1e89f-ca43-4b99-9248-07c706f71ff2"
      },
      "execution_count": 25,
      "outputs": [
        {
          "output_type": "stream",
          "name": "stdout",
          "text": [
            "1/1 [==============================] - 0s 173ms/step\n",
            "1/1 [==============================] - 0s 20ms/step\n",
            "1/1 [==============================] - 0s 19ms/step\n",
            "1/1 [==============================] - 0s 21ms/step\n",
            "1/1 [==============================] - 0s 19ms/step\n",
            "1/1 [==============================] - 0s 22ms/step\n",
            "1/1 [==============================] - 0s 19ms/step\n",
            "1/1 [==============================] - 0s 29ms/step\n",
            "1/1 [==============================] - 0s 19ms/step\n",
            "1/1 [==============================] - 0s 157ms/step\n",
            "1/1 [==============================] - 0s 18ms/step\n",
            "1/1 [==============================] - 0s 26ms/step\n",
            "1/1 [==============================] - 0s 20ms/step\n",
            "1/1 [==============================] - 0s 24ms/step\n",
            "1/1 [==============================] - 0s 20ms/step\n",
            "1/1 [==============================] - 0s 25ms/step\n",
            "1/1 [==============================] - 0s 22ms/step\n",
            "1/1 [==============================] - 0s 20ms/step\n",
            "1/1 [==============================] - 0s 24ms/step\n",
            "1/1 [==============================] - 0s 19ms/step\n",
            "1/1 [==============================] - 0s 19ms/step\n",
            "1/1 [==============================] - 0s 19ms/step\n",
            "1/1 [==============================] - 0s 20ms/step\n",
            "1/1 [==============================] - 0s 22ms/step\n",
            "1/1 [==============================] - 0s 21ms/step\n",
            "1/1 [==============================] - 0s 20ms/step\n",
            "1/1 [==============================] - 0s 23ms/step\n",
            "1/1 [==============================] - 0s 19ms/step\n",
            "1/1 [==============================] - 0s 19ms/step\n",
            "1/1 [==============================] - 0s 19ms/step\n",
            "1/1 [==============================] - 0s 24ms/step\n",
            "1/1 [==============================] - 0s 20ms/step\n",
            "1/1 [==============================] - 0s 22ms/step\n",
            "1/1 [==============================] - 0s 22ms/step\n",
            "1/1 [==============================] - 0s 20ms/step\n",
            "1/1 [==============================] - 0s 20ms/step\n",
            "1/1 [==============================] - 0s 19ms/step\n",
            "1/1 [==============================] - 0s 18ms/step\n",
            "1/1 [==============================] - 0s 18ms/step\n",
            "1/1 [==============================] - 0s 19ms/step\n",
            "1/1 [==============================] - 0s 19ms/step\n",
            "1/1 [==============================] - 0s 20ms/step\n",
            "1/1 [==============================] - 0s 19ms/step\n",
            "1/1 [==============================] - 0s 22ms/step\n",
            "1/1 [==============================] - 0s 20ms/step\n",
            "1/1 [==============================] - 0s 19ms/step\n",
            "1/1 [==============================] - 0s 19ms/step\n",
            "1/1 [==============================] - 0s 21ms/step\n",
            "1/1 [==============================] - 0s 20ms/step\n",
            "1/1 [==============================] - 0s 20ms/step\n",
            "thing idding hanour.\n",
            "\n",
            "grumio:\n",
            "will you go? woy, sir\n"
          ]
        }
      ]
    }
  ]
}